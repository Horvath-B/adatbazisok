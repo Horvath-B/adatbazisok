{
    "metadata": {
        "kernelspec": {
            "name": "SQL",
            "display_name": "SQL",
            "language": "sql"
        },
        "language_info": {
            "name": "sql",
            "version": ""
        }
    },
    "nbformat_minor": 2,
    "nbformat": 4,
    "cells": [
        {
            "cell_type": "markdown",
            "source": [
                ""
            ],
            "metadata": {
                "azdata_cell_guid": "e1aebbb6-b93e-49ef-a513-af92c9382f7d"
            }
        },
        {
            "cell_type": "code",
            "source": [
                "SELECT  TIPUS,\r\n",
                "        HELY,\r\n",
                "        ROUND(AVG(CAST(CSILLAGOK_SZAMA AS decimal)), 2)\r\n",
                "FROM szallashely\r\n",
                "--WHERE CHARINDEX('-', SZALLAS_NEV) <> 0\r\n",
                "GROUP BY \r\n",
                "GROUPING SETS (TIPUS, HELY)"
            ],
            "metadata": {
                "azdata_cell_guid": "dd017d3d-30c6-45c9-83d7-c647cb82371f",
                "language": "sql"
            },
            "outputs": [
                {
                    "output_type": "display_data",
                    "data": {
                        "text/html": "(14 rows affected)"
                    },
                    "metadata": {}
                },
                {
                    "output_type": "display_data",
                    "data": {
                        "text/html": "Total execution time: 00:00:00.011"
                    },
                    "metadata": {}
                },
                {
                    "output_type": "execute_result",
                    "metadata": {},
                    "execution_count": 14,
                    "data": {
                        "application/vnd.dataresource+json": {
                            "schema": {
                                "fields": [
                                    {
                                        "name": "TIPUS"
                                    },
                                    {
                                        "name": "HELY"
                                    },
                                    {
                                        "name": "(No column name)"
                                    }
                                ]
                            },
                            "data": [
                                {
                                    "TIPUS": "NULL",
                                    "HELY": "Balaton-dél",
                                    "(No column name)": "1.860000"
                                },
                                {
                                    "TIPUS": "NULL",
                                    "HELY": "Balaton-észak",
                                    "(No column name)": "0.000000"
                                },
                                {
                                    "TIPUS": "NULL",
                                    "HELY": "Békés megye",
                                    "(No column name)": "3.000000"
                                },
                                {
                                    "TIPUS": "NULL",
                                    "HELY": "Budapest",
                                    "(No column name)": "2.500000"
                                },
                                {
                                    "TIPUS": "NULL",
                                    "HELY": "Csongrád megye",
                                    "(No column name)": "1.500000"
                                },
                                {
                                    "TIPUS": "NULL",
                                    "HELY": "Dél-Somogy",
                                    "(No column name)": "0.000000"
                                },
                                {
                                    "TIPUS": "NULL",
                                    "HELY": "Hajdúbihar megye",
                                    "(No column name)": "0.000000"
                                },
                                {
                                    "TIPUS": "NULL",
                                    "HELY": "Pest megye",
                                    "(No column name)": "3.000000"
                                },
                                {
                                    "TIPUS": "NULL",
                                    "HELY": "Tolna megye",
                                    "(No column name)": "4.000000"
                                },
                                {
                                    "TIPUS": "Apartman",
                                    "HELY": "NULL",
                                    "(No column name)": "0.000000"
                                },
                                {
                                    "TIPUS": "Diákszálló",
                                    "HELY": "NULL",
                                    "(No column name)": "0.000000"
                                },
                                {
                                    "TIPUS": "Hotel",
                                    "HELY": "NULL",
                                    "(No column name)": "3.500000"
                                },
                                {
                                    "TIPUS": "panzió",
                                    "HELY": "NULL",
                                    "(No column name)": "3.000000"
                                },
                                {
                                    "TIPUS": "vendégház",
                                    "HELY": "NULL",
                                    "(No column name)": "0.000000"
                                }
                            ]
                        },
                        "text/html": [
                            "<table>",
                            "<tr><th>TIPUS</th><th>HELY</th><th>(No column name)</th></tr>",
                            "<tr><td>NULL</td><td>Balaton-dél</td><td>1.860000</td></tr>",
                            "<tr><td>NULL</td><td>Balaton-észak</td><td>0.000000</td></tr>",
                            "<tr><td>NULL</td><td>Békés megye</td><td>3.000000</td></tr>",
                            "<tr><td>NULL</td><td>Budapest</td><td>2.500000</td></tr>",
                            "<tr><td>NULL</td><td>Csongrád megye</td><td>1.500000</td></tr>",
                            "<tr><td>NULL</td><td>Dél-Somogy</td><td>0.000000</td></tr>",
                            "<tr><td>NULL</td><td>Hajdúbihar megye</td><td>0.000000</td></tr>",
                            "<tr><td>NULL</td><td>Pest megye</td><td>3.000000</td></tr>",
                            "<tr><td>NULL</td><td>Tolna megye</td><td>4.000000</td></tr>",
                            "<tr><td>Apartman</td><td>NULL</td><td>0.000000</td></tr>",
                            "<tr><td>Diákszálló</td><td>NULL</td><td>0.000000</td></tr>",
                            "<tr><td>Hotel</td><td>NULL</td><td>3.500000</td></tr>",
                            "<tr><td>panzió</td><td>NULL</td><td>3.000000</td></tr>",
                            "<tr><td>vendégház</td><td>NULL</td><td>0.000000</td></tr>",
                            "</table>"
                        ]
                    }
                }
            ],
            "execution_count": 14
        },
        {
            "cell_type": "markdown",
            "source": [
                ""
            ],
            "metadata": {
                "azdata_cell_guid": "9d56965a-adcf-480f-a0b5-7fc7f5ccdf76"
            }
        },
        {
            "cell_type": "code",
            "source": [
                "SELECT  f.FOGLALAS_PK,\r\n",
                "        f.SZOBA_FK,\r\n",
                "        f.UGYFEL_FK,\r\n",
                "        f.METTOL,\r\n",
                "        f.MEDDIG,\r\n",
                "        f.FELNOTT_SZAM,\r\n",
                "        f.GYERMEK_SZAM\r\n",
                "FROM Foglalas f JOIN Vendeg v ON f.UGYFEL_FK = v.USERNEV\r\n",
                "WHERE v.SZUL_DAT =\r\n",
                "(\r\n",
                "    SELECT MAX(SZUL_DAT)\r\n",
                "    FROM Vendeg\r\n",
                "    WHERE SZUL_DAT <>\r\n",
                "    (\r\n",
                "        SELECT MAX(szul_dat)\r\n",
                "        FROM Vendeg\r\n",
                "    )\r\n",
                ")"
            ],
            "metadata": {
                "azdata_cell_guid": "bbf0cbfd-ad09-469a-a151-c78525b4c780",
                "language": "sql"
            },
            "outputs": [
                {
                    "output_type": "display_data",
                    "data": {
                        "text/html": "(4 rows affected)"
                    },
                    "metadata": {}
                },
                {
                    "output_type": "display_data",
                    "data": {
                        "text/html": "Total execution time: 00:00:00.020"
                    },
                    "metadata": {}
                },
                {
                    "output_type": "execute_result",
                    "metadata": {},
                    "execution_count": 20,
                    "data": {
                        "application/vnd.dataresource+json": {
                            "schema": {
                                "fields": [
                                    {
                                        "name": "FOGLALAS_PK"
                                    },
                                    {
                                        "name": "SZOBA_FK"
                                    },
                                    {
                                        "name": "UGYFEL_FK"
                                    },
                                    {
                                        "name": "METTOL"
                                    },
                                    {
                                        "name": "MEDDIG"
                                    },
                                    {
                                        "name": "FELNOTT_SZAM"
                                    },
                                    {
                                        "name": "GYERMEK_SZAM"
                                    }
                                ]
                            },
                            "data": [
                                {
                                    "FOGLALAS_PK": "583",
                                    "SZOBA_FK": "79",
                                    "UGYFEL_FK": "istvan1",
                                    "METTOL": "2016-04-16",
                                    "MEDDIG": "2016-04-22",
                                    "FELNOTT_SZAM": "3",
                                    "GYERMEK_SZAM": "0"
                                },
                                {
                                    "FOGLALAS_PK": "599",
                                    "SZOBA_FK": "162",
                                    "UGYFEL_FK": "istvan1",
                                    "METTOL": "2016-04-24",
                                    "MEDDIG": "2016-04-28",
                                    "FELNOTT_SZAM": "3",
                                    "GYERMEK_SZAM": "0"
                                },
                                {
                                    "FOGLALAS_PK": "689",
                                    "SZOBA_FK": "102",
                                    "UGYFEL_FK": "istvan1",
                                    "METTOL": "2016-07-19",
                                    "MEDDIG": "2016-07-24",
                                    "FELNOTT_SZAM": "1",
                                    "GYERMEK_SZAM": "0"
                                },
                                {
                                    "FOGLALAS_PK": "1507",
                                    "SZOBA_FK": "153",
                                    "UGYFEL_FK": "istvan1",
                                    "METTOL": "2017-02-07",
                                    "MEDDIG": "2017-02-10",
                                    "FELNOTT_SZAM": "2",
                                    "GYERMEK_SZAM": "1"
                                }
                            ]
                        },
                        "text/html": [
                            "<table>",
                            "<tr><th>FOGLALAS_PK</th><th>SZOBA_FK</th><th>UGYFEL_FK</th><th>METTOL</th><th>MEDDIG</th><th>FELNOTT_SZAM</th><th>GYERMEK_SZAM</th></tr>",
                            "<tr><td>583</td><td>79</td><td>istvan1</td><td>2016-04-16</td><td>2016-04-22</td><td>3</td><td>0</td></tr>",
                            "<tr><td>599</td><td>162</td><td>istvan1</td><td>2016-04-24</td><td>2016-04-28</td><td>3</td><td>0</td></tr>",
                            "<tr><td>689</td><td>102</td><td>istvan1</td><td>2016-07-19</td><td>2016-07-24</td><td>1</td><td>0</td></tr>",
                            "<tr><td>1507</td><td>153</td><td>istvan1</td><td>2017-02-07</td><td>2017-02-10</td><td>2</td><td>1</td></tr>",
                            "</table>"
                        ]
                    }
                }
            ],
            "execution_count": 20
        }
    ]
}