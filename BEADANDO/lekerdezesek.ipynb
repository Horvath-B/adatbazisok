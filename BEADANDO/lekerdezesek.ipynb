{
    "metadata": {
        "kernelspec": {
            "name": "SQL",
            "display_name": "SQL",
            "language": "sql"
        },
        "language_info": {
            "name": "sql",
            "version": ""
        }
    },
    "nbformat_minor": 2,
    "nbformat": 4,
    "cells": [
        {
            "cell_type": "markdown",
            "source": [
                "<span style=\"color: var(--vscode-foreground);\">Melyek azok az autók, amelyeket részletfizetésre vásároltak meg, és az áruk nagyobb az átlagárnál?</span>"
            ],
            "metadata": {
                "azdata_cell_guid": "212bd10e-c5e0-42a9-872e-92d8181f645b"
            },
            "attachments": {}
        },
        {
            "cell_type": "code",
            "source": [
                "SELECT a.AutoID, a.Szin, a.Ar\r\n",
                "FROM Autok a\r\n",
                "JOIN Vetel v ON a.AutoID = v.Kocsi\r\n",
                "WHERE v.FizetesiMod = 'reszlet'\r\n",
                "AND a.Ar > \r\n",
                "(\r\n",
                "    SELECT AVG(Ar)\r\n",
                "    FROM Autok\r\n",
                ")"
            ],
            "metadata": {
                "azdata_cell_guid": "126ba0f9-ffa5-43dd-aae5-500649e6f961",
                "language": "sql",
                "tags": []
            },
            "outputs": [],
            "execution_count": null
        },
        {
            "cell_type": "markdown",
            "source": [
                "Azoknak a vevőknek a neve listázva, akik már vásároltak legalább egy fehér színű autót."
            ],
            "metadata": {
                "azdata_cell_guid": "218e67ee-59b0-4d39-b7b2-6170ebd25591"
            },
            "attachments": {}
        },
        {
            "cell_type": "code",
            "source": [
                "SELECT v.Nev\r\n",
                "FROM Vevo v\r\n",
                "WHERE EXISTS \r\n",
                "(\r\n",
                "    SELECT *\r\n",
                "    FROM Vetel vt\r\n",
                "    JOIN Autok a ON vt.Kocsi = a.AutoID\r\n",
                "    WHERE vt.Vevo = v.VevoID\r\n",
                "    AND a.Szin = 'Fehér'\r\n",
                ")"
            ],
            "metadata": {
                "azdata_cell_guid": "937b1d99-ee45-4f29-bda9-c8488ca4af96",
                "language": "sql",
                "tags": []
            },
            "outputs": [],
            "execution_count": null
        },
        {
            "cell_type": "markdown",
            "source": [
                "Melyek azok az üzletkötők, akik legalább két különböző vásárlást bonyolítottak le?"
            ],
            "metadata": {
                "azdata_cell_guid": "eaa27fbe-84c4-4e77-8593-9cc2c081459a"
            },
            "attachments": {}
        },
        {
            "cell_type": "code",
            "source": [
                "SELECT u.Nev, COUNT(*) AS EladasokSzama\r\n",
                "FROM Vetel v\r\n",
                "JOIN Uzletkoto u ON v.Uzletkoto = u.UzletkotoID\r\n",
                "GROUP BY u.Nev\r\n",
                "HAVING COUNT(*) >= 2"
            ],
            "metadata": {
                "azdata_cell_guid": "a9c2fc01-522e-4d8a-8303-39392f778948",
                "language": "sql"
            },
            "outputs": [],
            "execution_count": null
        },
        {
            "cell_type": "markdown",
            "source": [
                "Mely vevők vettek \"elektromos\" meghajtású autót?"
            ],
            "metadata": {
                "azdata_cell_guid": "d856809e-ad77-4eee-a006-92179538587b"
            },
            "attachments": {}
        },
        {
            "cell_type": "code",
            "source": [
                "SELECT v.Nev\r\n",
                "FROM Vevo v\r\n",
                "WHERE v.VevoID IN \r\n",
                "(\r\n",
                "    SELECT vt.Vevo\r\n",
                "    FROM Vetel vt\r\n",
                "    JOIN Autok a ON vt.Kocsi = a.AutoID\r\n",
                "    JOIN Meghajtas m ON a.Meghajtas = m.MeghajtasID\r\n",
                "    WHERE m.Uzemanyag = 'elektromos'\r\n",
                ")"
            ],
            "metadata": {
                "azdata_cell_guid": "22bb09c5-e9ea-47fc-a8bf-8662bb618051",
                "language": "sql"
            },
            "outputs": [],
            "execution_count": null
        },
        {
            "cell_type": "markdown",
            "source": [
                "Milyen márkájú autókat adtak el legalább kétszer?"
            ],
            "metadata": {
                "azdata_cell_guid": "f647f7ef-224a-4010-97d5-07bee989163a"
            },
            "attachments": {}
        },
        {
            "cell_type": "code",
            "source": [
                "SELECT mo.Marka, COUNT(*) AS EladasokSzama\r\n",
                "FROM Vetel v\r\n",
                "JOIN Autok a ON v.Kocsi = a.AutoID\r\n",
                "JOIN Modell mo ON a.Modell = mo.ModellID\r\n",
                "GROUP BY mo.Marka\r\n",
                "HAVING COUNT(*) >= 2"
            ],
            "metadata": {
                "azdata_cell_guid": "39b17d03-77d9-4851-8929-0fb6724da7a7",
                "language": "sql"
            },
            "outputs": [],
            "execution_count": null
        },
        {
            "cell_type": "markdown",
            "source": [
                "Mely üzletkötők adtak el olyan autót, amelynek ára nagyobb, mint az összes autó közül a legkisebb ár?"
            ],
            "metadata": {
                "azdata_cell_guid": "c5b013c1-018c-4baa-9db0-277972241723"
            },
            "attachments": {}
        },
        {
            "cell_type": "code",
            "source": [
                "SELECT u.Nev\r\n",
                "FROM Uzletkoto u\r\n",
                "WHERE EXISTS \r\n",
                "(\r\n",
                "    SELECT *\r\n",
                "    FROM Vetel v\r\n",
                "    JOIN Autok a ON v.Kocsi = a.AutoID\r\n",
                "    WHERE v.Uzletkoto = u.UzletkotoID\r\n",
                "    AND a.Ar > \r\n",
                "    (\r\n",
                "      SELECT MIN(Ar)\r\n",
                "      FROM Autok\r\n",
                "    )\r\n",
                ")"
            ],
            "metadata": {
                "azdata_cell_guid": "ac8164da-15a1-4829-8efb-e2929883a172",
                "language": "sql"
            },
            "outputs": [],
            "execution_count": null
        }
    ]
}