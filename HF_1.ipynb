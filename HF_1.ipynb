{
    "metadata": {
        "kernelspec": {
            "name": "SQL",
            "display_name": "SQL",
            "language": "sql"
        },
        "language_info": {
            "name": "sql",
            "version": ""
        }
    },
    "nbformat_minor": 2,
    "nbformat": 4,
    "cells": [
        {
            "cell_type": "markdown",
            "source": [
                "# **Adatprofilozás**"
            ],
            "metadata": {
                "azdata_cell_guid": "4b0f2ca9-8fd3-4bdb-9a97-654f2539006a"
            },
            "attachments": {}
        },
        {
            "cell_type": "markdown",
            "source": [
                "**Szállítási cím oszlop**"
            ],
            "metadata": {
                "azdata_cell_guid": "f1cc47d2-a720-41f8-9d99-053625f71de2"
            },
            "attachments": {}
        },
        {
            "cell_type": "code",
            "source": [
                "SELECT  COUNT(*) AS 'Összes sor',\r\n",
                "        SUM(CASE\r\n",
                "                WHEN SZALL_CIM IS NULL THEN 1\r\n",
                "                WHEN SZALL_CIM IS NOT NULL THEN 0\r\n",
                "            END\r\n",
                "            ) AS 'Ahol a szállítási cím null',\r\n",
                "        CAST(SUM(CASE\r\n",
                "                WHEN SZALL_CIM IS NULL THEN 1\r\n",
                "                WHEN SZALL_CIM IS NOT NULL THEN 0\r\n",
                "            END\r\n",
                "        ) AS decimal(10,2)) / CAST(COUNT(*)AS decimal(10,2)) * 100 AS 'Százalékos arányuk'\r\n",
                "FROM Rendeles"
            ],
            "metadata": {
                "azdata_cell_guid": "afd5e0a0-0e9e-4368-9050-15dcf0bd0b74",
                "language": "sql",
                "tags": []
            },
            "outputs": [
                {
                    "output_type": "display_data",
                    "data": {
                        "text/html": "(1 row affected)"
                    },
                    "metadata": {}
                },
                {
                    "output_type": "display_data",
                    "data": {
                        "text/html": "Total execution time: 00:00:00.037"
                    },
                    "metadata": {}
                },
                {
                    "output_type": "execute_result",
                    "metadata": {},
                    "execution_count": 2,
                    "data": {
                        "application/vnd.dataresource+json": {
                            "schema": {
                                "fields": [
                                    {
                                        "name": "Összes sor"
                                    },
                                    {
                                        "name": "Ahol a szállítási cím null"
                                    },
                                    {
                                        "name": "Százalékos arányuk"
                                    }
                                ]
                            },
                            "data": [
                                {
                                    "Összes sor": "28085",
                                    "Ahol a szállítási cím null": "21689",
                                    "Százalékos arányuk": "77.2262773722600"
                                }
                            ]
                        },
                        "text/html": [
                            "<table>",
                            "<tr><th>Összes sor</th><th>Ahol a szállítási cím null</th><th>Százalékos arányuk</th></tr>",
                            "<tr><td>28085</td><td>21689</td><td>77.2262773722600</td></tr>",
                            "</table>"
                        ]
                    }
                }
            ],
            "execution_count": 2
        },
        {
            "cell_type": "markdown",
            "source": [
                "**Rendelés dátum oszlop**"
            ],
            "metadata": {
                "azdata_cell_guid": "f1a6cb20-25e8-4854-ba7d-c9631ecbb4a1"
            },
            "attachments": {}
        },
        {
            "cell_type": "code",
            "source": [
                "SELECT MIN(REND_DATUM) AS 'Minimum érték',\r\n",
                "        MAX(REND_DATUM) AS 'Maximum érték'\r\n",
                "        --AVG(REND_DATUM) AS 'Átlag'\r\n",
                "FROM Rendeles"
            ],
            "metadata": {
                "azdata_cell_guid": "67a7cfe8-cea5-4cfd-9e9b-a78dfcc9efb4",
                "language": "sql"
            },
            "outputs": [
                {
                    "output_type": "display_data",
                    "data": {
                        "text/html": "(1 row affected)"
                    },
                    "metadata": {}
                },
                {
                    "output_type": "display_data",
                    "data": {
                        "text/html": "Total execution time: 00:00:00.073"
                    },
                    "metadata": {}
                },
                {
                    "output_type": "execute_result",
                    "metadata": {},
                    "execution_count": 5,
                    "data": {
                        "application/vnd.dataresource+json": {
                            "schema": {
                                "fields": [
                                    {
                                        "name": "Minimum érték"
                                    },
                                    {
                                        "name": "Maximum érték"
                                    }
                                ]
                            },
                            "data": [
                                {
                                    "Minimum érték": "2015-05-01",
                                    "Maximum érték": "2017-04-01"
                                }
                            ]
                        },
                        "text/html": [
                            "<table>",
                            "<tr><th>Minimum érték</th><th>Maximum érték</th></tr>",
                            "<tr><td>2015-05-01</td><td>2017-04-01</td></tr>",
                            "</table>"
                        ]
                    }
                }
            ],
            "execution_count": 5
        },
        {
            "cell_type": "markdown",
            "source": [
                "**Szállítási mód oszlop**"
            ],
            "metadata": {
                "azdata_cell_guid": "5405b596-8a58-4808-b93c-2417ea6e8c4a"
            },
            "attachments": {}
        },
        {
            "cell_type": "code",
            "source": [
                "SELECT  SZALL_MOD AS 'Szállítási módok',\r\n",
                "        COUNT(SORSZAM) AS 'Számszerű gyakoriság',\r\n",
                "        ROUND(CAST(COUNT(SORSZAM) AS decimal(10,2)) / CAST((SELECT COUNT(*) FROM Rendeles) AS decimal(10,2)) * 100,2) AS 'Százalékos gyakoriság'\r\n",
                "FROM Rendeles\r\n",
                "GROUP BY SZALL_MOD\r\n",
                "ORDER BY COUNT(SORSZAM)"
            ],
            "metadata": {
                "azdata_cell_guid": "1102d619-8ea8-4a86-acf9-fa4cf8d366f6",
                "language": "sql"
            },
            "outputs": [
                {
                    "output_type": "display_data",
                    "data": {
                        "text/html": "(3 rows affected)"
                    },
                    "metadata": {}
                },
                {
                    "output_type": "display_data",
                    "data": {
                        "text/html": "Total execution time: 00:00:00.051"
                    },
                    "metadata": {}
                },
                {
                    "output_type": "execute_result",
                    "metadata": {},
                    "execution_count": 11,
                    "data": {
                        "application/vnd.dataresource+json": {
                            "schema": {
                                "fields": [
                                    {
                                        "name": "Szállítási módok"
                                    },
                                    {
                                        "name": "Számszerű gyakoriság"
                                    },
                                    {
                                        "name": "Százalékos gyakoriság"
                                    }
                                ]
                            },
                            "data": [
                                {
                                    "Szállítási módok": "Posta",
                                    "Számszerű gyakoriság": "9191",
                                    "Százalékos gyakoriság": "32.7300000000000"
                                },
                                {
                                    "Szállítási módok": "GLS",
                                    "Számszerű gyakoriság": "9426",
                                    "Százalékos gyakoriság": "33.5600000000000"
                                },
                                {
                                    "Szállítási módok": "Személyes átvétel",
                                    "Számszerű gyakoriság": "9468",
                                    "Százalékos gyakoriság": "33.7100000000000"
                                }
                            ]
                        },
                        "text/html": [
                            "<table>",
                            "<tr><th>Szállítási módok</th><th>Számszerű gyakoriság</th><th>Százalékos gyakoriság</th></tr>",
                            "<tr><td>Posta</td><td>9191</td><td>32.7300000000000</td></tr>",
                            "<tr><td>GLS</td><td>9426</td><td>33.5600000000000</td></tr>",
                            "<tr><td>Személyes átvétel</td><td>9468</td><td>33.7100000000000</td></tr>",
                            "</table>"
                        ]
                    }
                }
            ],
            "execution_count": 11
        }
    ]
}